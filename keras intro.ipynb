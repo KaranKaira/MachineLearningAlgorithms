{
 "cells": [
  {
   "cell_type": "raw",
   "metadata": {},
   "source": [
    "FLOW OF CODE\n",
    " \n",
    "1. build a model\n",
    "2. define archtiture\n",
    "    .. how many layers (no need to add input layer)\n",
    "        ..units\n",
    "        .. activation functions\n",
    "3.compile  --> cost , optimizer\n",
    "4.fit   ->> training data\n",
    "5.evaluate/predict"
   ]
  },
  {
   "cell_type": "code",
   "execution_count": 1,
   "metadata": {},
   "outputs": [
    {
     "name": "stderr",
     "output_type": "stream",
     "text": [
      "Using TensorFlow backend.\n",
      "C:\\Users\\Asus\\anaconda3\\lib\\site-packages\\tensorflow\\python\\framework\\dtypes.py:526: FutureWarning: Passing (type, 1) or '1type' as a synonym of type is deprecated; in a future version of numpy, it will be understood as (type, (1,)) / '(1,)type'.\n",
      "  _np_qint8 = np.dtype([(\"qint8\", np.int8, 1)])\n",
      "C:\\Users\\Asus\\anaconda3\\lib\\site-packages\\tensorflow\\python\\framework\\dtypes.py:527: FutureWarning: Passing (type, 1) or '1type' as a synonym of type is deprecated; in a future version of numpy, it will be understood as (type, (1,)) / '(1,)type'.\n",
      "  _np_quint8 = np.dtype([(\"quint8\", np.uint8, 1)])\n",
      "C:\\Users\\Asus\\anaconda3\\lib\\site-packages\\tensorflow\\python\\framework\\dtypes.py:528: FutureWarning: Passing (type, 1) or '1type' as a synonym of type is deprecated; in a future version of numpy, it will be understood as (type, (1,)) / '(1,)type'.\n",
      "  _np_qint16 = np.dtype([(\"qint16\", np.int16, 1)])\n",
      "C:\\Users\\Asus\\anaconda3\\lib\\site-packages\\tensorflow\\python\\framework\\dtypes.py:529: FutureWarning: Passing (type, 1) or '1type' as a synonym of type is deprecated; in a future version of numpy, it will be understood as (type, (1,)) / '(1,)type'.\n",
      "  _np_quint16 = np.dtype([(\"quint16\", np.uint16, 1)])\n",
      "C:\\Users\\Asus\\anaconda3\\lib\\site-packages\\tensorflow\\python\\framework\\dtypes.py:530: FutureWarning: Passing (type, 1) or '1type' as a synonym of type is deprecated; in a future version of numpy, it will be understood as (type, (1,)) / '(1,)type'.\n",
      "  _np_qint32 = np.dtype([(\"qint32\", np.int32, 1)])\n",
      "C:\\Users\\Asus\\anaconda3\\lib\\site-packages\\tensorflow\\python\\framework\\dtypes.py:535: FutureWarning: Passing (type, 1) or '1type' as a synonym of type is deprecated; in a future version of numpy, it will be understood as (type, (1,)) / '(1,)type'.\n",
      "  np_resource = np.dtype([(\"resource\", np.ubyte, 1)])\n"
     ]
    }
   ],
   "source": [
    "import keras"
   ]
  },
  {
   "cell_type": "code",
   "execution_count": 2,
   "metadata": {},
   "outputs": [],
   "source": [
    "from keras.models import Sequential\n",
    "from keras.layers import Dense "
   ]
  },
  {
   "cell_type": "code",
   "execution_count": 3,
   "metadata": {},
   "outputs": [],
   "source": [
    "model = Sequential()"
   ]
  },
  {
   "cell_type": "code",
   "execution_count": 4,
   "metadata": {},
   "outputs": [
    {
     "name": "stdout",
     "output_type": "stream",
     "text": [
      "WARNING:tensorflow:From C:\\Users\\Asus\\anaconda3\\lib\\site-packages\\tensorflow\\python\\ops\\resource_variable_ops.py:435: colocate_with (from tensorflow.python.framework.ops) is deprecated and will be removed in a future version.\n",
      "Instructions for updating:\n",
      "Colocations handled automatically by placer.\n"
     ]
    }
   ],
   "source": [
    "## adding a dense layer \n",
    "## doign this for breast cancer\n",
    "layer1 = Dense(units= 32 ,activation = 'relu',input_dim = 30)\n",
    "model.add(layer1)\n",
    "layer2 = Dense(units = 16 ,activation = 'relu' )\n",
    "model.add(layer2)\n",
    "output = Dense(units = 1,activation = 'sigmoid')\n",
    "model.add(output)"
   ]
  },
  {
   "cell_type": "code",
   "execution_count": 5,
   "metadata": {},
   "outputs": [],
   "source": [
    "## compile\n",
    "model.compile(optimizer = 'adam',loss= 'binary_crossentropy',metrics = ['accuracy'])  \n",
    "## make sure u choose correct and play around optimizer,loss and metrcis"
   ]
  },
  {
   "cell_type": "code",
   "execution_count": 6,
   "metadata": {},
   "outputs": [],
   "source": [
    "from sklearn import datasets\n",
    "from sklearn.preprocessing import StandardScaler\n",
    "cancer = datasets.load_breast_cancer()\n",
    "from sklearn.model_selection import train_test_split\n",
    "xtrain,xtest,ytrain,ytest = train_test_split(cancer.data,cancer.target,test_size = 0.2 ,random_state = 0)\n",
    "sc = StandardScaler()\n",
    "xtrain = sc.fit_transform(xtrain)\n",
    "xtest = sc.transform(xtest)"
   ]
  },
  {
   "cell_type": "code",
   "execution_count": 7,
   "metadata": {},
   "outputs": [
    {
     "name": "stdout",
     "output_type": "stream",
     "text": [
      "WARNING:tensorflow:From C:\\Users\\Asus\\anaconda3\\lib\\site-packages\\tensorflow\\python\\ops\\math_ops.py:3066: to_int32 (from tensorflow.python.ops.math_ops) is deprecated and will be removed in a future version.\n",
      "Instructions for updating:\n",
      "Use tf.cast instead.\n",
      "Train on 455 samples, validate on 114 samples\n",
      "Epoch 1/20\n",
      "455/455 [==============================] - 1s 1ms/step - loss: 0.6725 - accuracy: 0.6198 - val_loss: 0.5941 - val_accuracy: 0.7807\n",
      "Epoch 2/20\n",
      "455/455 [==============================] - 0s 63us/step - loss: 0.5203 - accuracy: 0.8593 - val_loss: 0.4726 - val_accuracy: 0.8860\n",
      "Epoch 3/20\n",
      "455/455 [==============================] - 0s 64us/step - loss: 0.4082 - accuracy: 0.9077 - val_loss: 0.3824 - val_accuracy: 0.9211\n",
      "Epoch 4/20\n",
      "455/455 [==============================] - 0s 60us/step - loss: 0.3256 - accuracy: 0.9275 - val_loss: 0.3167 - val_accuracy: 0.9211\n",
      "Epoch 5/20\n",
      "455/455 [==============================] - 0s 64us/step - loss: 0.2631 - accuracy: 0.9407 - val_loss: 0.2684 - val_accuracy: 0.9298\n",
      "Epoch 6/20\n",
      "455/455 [==============================] - 0s 72us/step - loss: 0.2162 - accuracy: 0.9429 - val_loss: 0.2326 - val_accuracy: 0.9211\n",
      "Epoch 7/20\n",
      "455/455 [==============================] - 0s 62us/step - loss: 0.1821 - accuracy: 0.9473 - val_loss: 0.2066 - val_accuracy: 0.9211\n",
      "Epoch 8/20\n",
      "455/455 [==============================] - 0s 60us/step - loss: 0.1565 - accuracy: 0.9516 - val_loss: 0.1868 - val_accuracy: 0.9211\n",
      "Epoch 9/20\n",
      "455/455 [==============================] - 0s 65us/step - loss: 0.1375 - accuracy: 0.9538 - val_loss: 0.1731 - val_accuracy: 0.9211\n",
      "Epoch 10/20\n",
      "455/455 [==============================] - 0s 66us/step - loss: 0.1235 - accuracy: 0.9538 - val_loss: 0.1641 - val_accuracy: 0.9211\n",
      "Epoch 11/20\n",
      "455/455 [==============================] - 0s 66us/step - loss: 0.1120 - accuracy: 0.9560 - val_loss: 0.1568 - val_accuracy: 0.9298\n",
      "Epoch 12/20\n",
      "455/455 [==============================] - 0s 63us/step - loss: 0.1023 - accuracy: 0.9560 - val_loss: 0.1513 - val_accuracy: 0.9386\n",
      "Epoch 13/20\n",
      "455/455 [==============================] - 0s 62us/step - loss: 0.0943 - accuracy: 0.9626 - val_loss: 0.1460 - val_accuracy: 0.9474\n",
      "Epoch 14/20\n",
      "455/455 [==============================] - 0s 64us/step - loss: 0.0879 - accuracy: 0.9692 - val_loss: 0.1413 - val_accuracy: 0.9474\n",
      "Epoch 15/20\n",
      "455/455 [==============================] - 0s 65us/step - loss: 0.0823 - accuracy: 0.9758 - val_loss: 0.1373 - val_accuracy: 0.9474\n",
      "Epoch 16/20\n",
      "455/455 [==============================] - 0s 71us/step - loss: 0.0774 - accuracy: 0.9780 - val_loss: 0.1334 - val_accuracy: 0.9561\n",
      "Epoch 17/20\n",
      "455/455 [==============================] - 0s 63us/step - loss: 0.0728 - accuracy: 0.9824 - val_loss: 0.1316 - val_accuracy: 0.9474\n",
      "Epoch 18/20\n",
      "455/455 [==============================] - 0s 64us/step - loss: 0.0698 - accuracy: 0.9824 - val_loss: 0.1298 - val_accuracy: 0.9474\n",
      "Epoch 19/20\n",
      "455/455 [==============================] - 0s 67us/step - loss: 0.0669 - accuracy: 0.9868 - val_loss: 0.1284 - val_accuracy: 0.9561\n",
      "Epoch 20/20\n",
      "455/455 [==============================] - 0s 62us/step - loss: 0.0642 - accuracy: 0.9868 - val_loss: 0.1270 - val_accuracy: 0.9561\n"
     ]
    },
    {
     "data": {
      "text/plain": [
       "<keras.callbacks.callbacks.History at 0x1ca1380a8c8>"
      ]
     },
     "execution_count": 7,
     "metadata": {},
     "output_type": "execute_result"
    }
   ],
   "source": [
    "##  loading data\n",
    "model.fit(xtrain,ytrain,epochs = 20,batch_size =50,validation_data = (xtest,ytest))"
   ]
  },
  {
   "cell_type": "code",
   "execution_count": 12,
   "metadata": {},
   "outputs": [
    {
     "name": "stdout",
     "output_type": "stream",
     "text": [
      "114/114 [==============================] - 0s 59us/step\n"
     ]
    },
    {
     "data": {
      "text/plain": [
       "[0.12697098966230425, 0.9561403393745422]"
      ]
     },
     "execution_count": 12,
     "metadata": {},
     "output_type": "execute_result"
    }
   ],
   "source": [
    "## evaluations and predictions\n",
    "predictions = model.predict(xtest)\n",
    "score = model.evaluate(xtest,ytest)\n",
    "score"
   ]
  }
 ],
 "metadata": {
  "kernelspec": {
   "display_name": "Python 3",
   "language": "python",
   "name": "python3"
  },
  "language_info": {
   "codemirror_mode": {
    "name": "ipython",
    "version": 3
   },
   "file_extension": ".py",
   "mimetype": "text/x-python",
   "name": "python",
   "nbconvert_exporter": "python",
   "pygments_lexer": "ipython3",
   "version": "3.7.6"
  }
 },
 "nbformat": 4,
 "nbformat_minor": 4
}
