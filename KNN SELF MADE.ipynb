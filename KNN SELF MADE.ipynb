{
 "cells": [
  {
   "cell_type": "code",
   "execution_count": 39,
   "metadata": {},
   "outputs": [],
   "source": [
    "import numpy as np\n",
    "from sklearn import datasets\n",
    "from collections import Counter \n",
    "from sklearn.metrics import accuracy_score\n",
    "from sklearn.model_selection import cross_val_score\n",
    "from sklearn.model_selection import train_test_split"
   ]
  },
  {
   "cell_type": "code",
   "execution_count": 6,
   "metadata": {},
   "outputs": [],
   "source": [
    "data = datasets.load_breast_cancer()\n",
    "x = data.data\n",
    "y = data.target"
   ]
  },
  {
   "cell_type": "code",
   "execution_count": 36,
   "metadata": {},
   "outputs": [],
   "source": [
    "xtrain,xtest,ytrain,ytest = train_test_split(x,y,random_state = 1 ,test_size = 0.2)"
   ]
  },
  {
   "cell_type": "code",
   "execution_count": 47,
   "metadata": {},
   "outputs": [],
   "source": [
    "def predict_one_test(xtrain,ytrain,xtest,k):\n",
    "\n",
    "    distances = []\n",
    "    for i in range(len(xtrain)):\n",
    "        \n",
    "        distance = ((xtrain[i,:] - xtest)**2).sum() \n",
    "        distances.append([distance,i])\n",
    "        \n",
    "    distances = sorted(distances)\n",
    "    neighbour_classes = []\n",
    "    for i in range(k):\n",
    "        neighbour_classes.append(ytrain[distances[i][1]])\n",
    "        \n",
    "    return Counter(neighbour_classes).most_common(1)[0][0]  #  Counter(neighbour_classes).most_common()[0][0][0]\n",
    "            \n",
    "            "
   ]
  },
  {
   "cell_type": "code",
   "execution_count": 31,
   "metadata": {},
   "outputs": [],
   "source": [
    "def predict(xtrain,ytrain,xtest,k):\n",
    "    predictions = []\n",
    "    for i in xtest:\n",
    "        predictions.append(predict_one_test(xtrain,ytrain,i,k))\n",
    "    return predictions"
   ]
  },
  {
   "cell_type": "code",
   "execution_count": 52,
   "metadata": {},
   "outputs": [
    {
     "data": {
      "text/plain": [
       "0.9298245614035088"
      ]
     },
     "execution_count": 52,
     "metadata": {},
     "output_type": "execute_result"
    }
   ],
   "source": [
    "y_prd =  predict(xtrain,ytrain,xtest,11) ## playing around with k\n",
    "accuracy_score(ytest,y_prd)"
   ]
  },
  {
   "cell_type": "code",
   "execution_count": null,
   "metadata": {},
   "outputs": [],
   "source": [
    "0.9385964912280702"
   ]
  },
  {
   "cell_type": "code",
   "execution_count": 67,
   "metadata": {},
   "outputs": [
    {
     "data": {
      "text/plain": [
       "(array([[  1,   4,  22,  11,   2],\n",
       "        [ 11, 311,  11,   1,   1],\n",
       "        [  1,   1,   1,   1,   1]]),\n",
       " array([12, 12]))"
      ]
     },
     "execution_count": 67,
     "metadata": {},
     "output_type": "execute_result"
    }
   ],
   "source": [
    "a = np.array([1,4,22,11,2,11,311,11,1,1,1,1,1,1,1]).reshape((3,5))\n",
    "a,a[2,[1,2]] + a[1,2]"
   ]
  },
  {
   "cell_type": "code",
   "execution_count": null,
   "metadata": {},
   "outputs": [],
   "source": []
  }
 ],
 "metadata": {
  "kernelspec": {
   "display_name": "Python 3",
   "language": "python",
   "name": "python3"
  },
  "language_info": {
   "codemirror_mode": {
    "name": "ipython",
    "version": 3
   },
   "file_extension": ".py",
   "mimetype": "text/x-python",
   "name": "python",
   "nbconvert_exporter": "python",
   "pygments_lexer": "ipython3",
   "version": "3.7.6"
  }
 },
 "nbformat": 4,
 "nbformat_minor": 4
}
